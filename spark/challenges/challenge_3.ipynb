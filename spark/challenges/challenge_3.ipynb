{
  "cells": [
    {
      "cell_type": "markdown",
      "metadata": {
        "id": "view-in-github",
        "colab_type": "text"
      },
      "source": [
        "<a href=\"https://colab.research.google.com/github/ducline/BST/blob/master/spark/challenges/challenge_3.ipynb\" target=\"_parent\"><img src=\"https://colab.research.google.com/assets/colab-badge.svg\" alt=\"Open In Colab\"/></a>"
      ]
    },
    {
      "cell_type": "markdown",
      "metadata": {
        "id": "BOA_wQSmLd9z"
      },
      "source": [
        "# CHALLENGE 3\n",
        "##  Implement ENRICH process\n",
        "- Set up path in the \"lake\"\n",
        "  - !mkdir -p /content/lake/gold\n",
        "\n",
        "- Read data from SILVER layer\n",
        "  - Paths:\n",
        "    - vehicles - path: /content/lake/silver/vehicles\n",
        "    - lines - path: /content/lake/silver/lines\n",
        "    - municipalities - path: /content/lake/silver/municipalities\n",
        "  - Use StructFields to enforce schema\n",
        "\n",
        "- Enrichment\n",
        "  - Enrich vehicles dataset with information from the line and municipalities\n",
        "    - join vehicles with lines and municipalities\n",
        "      - select all columns from vehicles + lines.long_name (name: line_name, format:string) + municipalities.name (name: municipality_name, format: array)\n",
        "      - Note that \"municipalities.name\" is an array\n",
        "\n",
        "- Write data as PARQUET into the GOLD layer (/content/lake/gold)\n",
        "  - Dataset name: vehicles_enriched\n",
        "  - Partition \"vehicles_enriched\" by \"date\" column\n",
        "  - Paths:\n",
        "    - vehicles - path: /content/lake/gold/vehicles_enriched\n",
        "  - Make sure there is only 1 single parquet created\n",
        "  - Use overwrite as write mode"
      ]
    },
    {
      "cell_type": "markdown",
      "metadata": {
        "id": "d9LeYFsPTjAb"
      },
      "source": [
        "# Setting up PySpark"
      ]
    },
    {
      "cell_type": "code",
      "source": [
        "!mkdir -p /content/lake/gold"
      ],
      "metadata": {
        "id": "AdZEuGuGq18F"
      },
      "execution_count": null,
      "outputs": []
    },
    {
      "cell_type": "code",
      "execution_count": null,
      "metadata": {
        "colab": {
          "base_uri": "https://localhost:8080/"
        },
        "id": "uYXeODL0T1fO",
        "outputId": "c410e46c-4a50-43aa-926f-d0417c6280d2"
      },
      "outputs": [
        {
          "name": "stdout",
          "output_type": "stream",
          "text": [
            "Requirement already satisfied: pyspark in /usr/local/lib/python3.10/dist-packages (3.5.3)\n",
            "Requirement already satisfied: py4j==0.10.9.7 in /usr/local/lib/python3.10/dist-packages (from pyspark) (0.10.9.7)\n"
          ]
        }
      ],
      "source": [
        "%pip install pyspark"
      ]
    },
    {
      "cell_type": "code",
      "source": [
        "from pyspark.sql import DataFrame, SparkSession\n",
        "from pyspark.sql.functions import *\n",
        "import pyspark.sql.functions as F\n",
        "from pyspark.sql.types import *\n",
        "import requests\n",
        "\n",
        "class ETLFlow:\n",
        "\n",
        "    def __init__(self, spark: SparkSession) -> None:\n",
        "        self.spark = spark\n",
        "\n",
        "    def extract_from_file(self, format: str, path: str, **kwargs) -> DataFrame:\n",
        "        df = self.spark.read.format(format).load(path)\n",
        "        return df\n",
        "\n",
        "    def extract_from_api(self, url: str, schema: StructType = None):\n",
        "        response = requests.get(url)\n",
        "        rdd = spark.sparkContext.parallelize(response.json())\n",
        "\n",
        "        if schema:\n",
        "            df = spark.read.schema(schema).json(rdd)\n",
        "        else:\n",
        "            df = spark.read.json(rdd)\n",
        "        return df\n",
        "\n",
        "    def load(self, df: DataFrame, format: str, path: str, partition_column: str = None, **kwargs) -> None:\n",
        "        if partition_column:\n",
        "            df.coalesce(1).write.mode(\"overwrite\").partitionBy(partition_column).format(format).save(path)\n",
        "        else:\n",
        "            df.coalesce(1).write.mode(\"overwrite\").format(format).save(path)\n",
        "\n",
        "class ETLTask(ETLFlow):\n",
        "\n",
        "    def __init__(self, spark: SparkSession) -> None:\n",
        "        super().__init__(spark)\n",
        "\n",
        "    def enrich_vehicles(self):\n",
        "        # Leitura dos dados no layer Silver\n",
        "        vehicles_df = self.extract_from_file(format=\"parquet\", path=\"/content/lake/silver/vehicles\")\n",
        "        lines_df = self.extract_from_file(format=\"parquet\", path=\"/content/lake/silver/lines\")\n",
        "        municipalities_df = self.extract_from_file(format=\"parquet\", path=\"/content/lake/silver/municipalities\")\n",
        "\n",
        "        # Join entre vehicles, lines e municipalities\n",
        "        enriched_df = vehicles_df \\\n",
        "            .join(lines_df, vehicles_df[\"line_id\"] == lines_df[\"id\"], \"left\") \\\n",
        "            .join(municipalities_df, municipalities_df[\"id\"].isin(vehicles_df[\"municipality_ids\"]), \"left\")\n",
        "\n",
        "        # Seleção das colunas desejadas\n",
        "        enriched_df = enriched_df \\\n",
        "            .select(\n",
        "                *vehicles_df.columns,\n",
        "                lines_df[\"long_name\"].alias(\"line_name\"),\n",
        "                municipalities_df[\"name\"].alias(\"municipality_name\")\n",
        "            )\n",
        "\n",
        "        # Gravação do dataset enriquecido no layer Gold, particionando por \"date\"\n",
        "        self.load(df=enriched_df, format=\"parquet\", path=\"/content/lake/gold/vehicles_enriched\", partition_column=\"date\")\n",
        "\n",
        "if __name__ == '__main__':\n",
        "    spark = SparkSession.builder.master('local').appName('ETL Program').getOrCreate()\n",
        "\n",
        "    print(\"Starting ETL program\")\n",
        "    etl = ETLTask(spark)\n",
        "\n",
        "    print(\"Running Task - Enrich Vehicles\")\n",
        "    etl.enrich_vehicles()\n",
        "\n",
        "    print(\"ETL program completed\")"
      ],
      "metadata": {
        "id": "4xHMGKbTq3lw"
      },
      "execution_count": null,
      "outputs": []
    }
  ],
  "metadata": {
    "colab": {
      "provenance": [],
      "include_colab_link": true
    },
    "kernelspec": {
      "display_name": "Python 3",
      "name": "python3"
    },
    "language_info": {
      "name": "python"
    }
  },
  "nbformat": 4,
  "nbformat_minor": 0
}